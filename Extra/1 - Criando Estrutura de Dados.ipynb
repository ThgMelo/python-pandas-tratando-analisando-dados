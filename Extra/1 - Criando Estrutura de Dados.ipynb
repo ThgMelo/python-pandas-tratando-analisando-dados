{
 "cells": [
  {
   "cell_type": "code",
   "execution_count": 1,
   "id": "da645f4b",
   "metadata": {},
   "outputs": [],
   "source": [
    "import pandas as pd"
   ]
  },
  {
   "cell_type": "markdown",
   "id": "241fbcbc",
   "metadata": {},
   "source": [
    "# Series"
   ]
  },
  {
   "cell_type": "code",
   "execution_count": 2,
   "id": "eabf79a1",
   "metadata": {},
   "outputs": [],
   "source": [
    "data = [1, 2, 3, 4, 5]"
   ]
  },
  {
   "cell_type": "code",
   "execution_count": 3,
   "id": "8d07d420",
   "metadata": {},
   "outputs": [],
   "source": [
    "s = pd.Series(data)"
   ]
  },
  {
   "cell_type": "code",
   "execution_count": 4,
   "id": "8bbfe617",
   "metadata": {},
   "outputs": [
    {
     "data": {
      "text/plain": [
       "0    1\n",
       "1    2\n",
       "2    3\n",
       "3    4\n",
       "4    5\n",
       "dtype: int64"
      ]
     },
     "execution_count": 4,
     "metadata": {},
     "output_type": "execute_result"
    }
   ],
   "source": [
    "s"
   ]
  },
  {
   "cell_type": "code",
   "execution_count": 5,
   "id": "bd52fe08",
   "metadata": {},
   "outputs": [],
   "source": [
    "index = ['Linha ' + str(i) for i in range(5)]"
   ]
  },
  {
   "cell_type": "code",
   "execution_count": 6,
   "id": "400c2978",
   "metadata": {},
   "outputs": [
    {
     "data": {
      "text/plain": [
       "['Linha 0', 'Linha 1', 'Linha 2', 'Linha 3', 'Linha 4']"
      ]
     },
     "execution_count": 6,
     "metadata": {},
     "output_type": "execute_result"
    }
   ],
   "source": [
    "index"
   ]
  },
  {
   "cell_type": "code",
   "execution_count": 7,
   "id": "f733367c",
   "metadata": {},
   "outputs": [],
   "source": [
    "s = pd.Series(data, index)"
   ]
  },
  {
   "cell_type": "code",
   "execution_count": 8,
   "id": "6d38b94d",
   "metadata": {},
   "outputs": [
    {
     "data": {
      "text/plain": [
       "Linha 0    1\n",
       "Linha 1    2\n",
       "Linha 2    3\n",
       "Linha 3    4\n",
       "Linha 4    5\n",
       "dtype: int64"
      ]
     },
     "execution_count": 8,
     "metadata": {},
     "output_type": "execute_result"
    }
   ],
   "source": [
    "s"
   ]
  },
  {
   "cell_type": "code",
   "execution_count": 9,
   "id": "ac31aa92",
   "metadata": {},
   "outputs": [
    {
     "data": {
      "text/plain": [
       "{'Linha 0': 1, 'Linha 1': 2, 'Linha 2': 3, 'Linha 3': 4, 'Linha 4': 5}"
      ]
     },
     "execution_count": 9,
     "metadata": {},
     "output_type": "execute_result"
    }
   ],
   "source": [
    "data = {'Linha ' + str(i) : i + 1 for i in range(5)}\n",
    "data"
   ]
  },
  {
   "cell_type": "code",
   "execution_count": 10,
   "id": "03fd7b2f",
   "metadata": {},
   "outputs": [
    {
     "data": {
      "text/plain": [
       "Linha 0    1\n",
       "Linha 1    2\n",
       "Linha 2    3\n",
       "Linha 3    4\n",
       "Linha 4    5\n",
       "dtype: int64"
      ]
     },
     "execution_count": 10,
     "metadata": {},
     "output_type": "execute_result"
    }
   ],
   "source": [
    "s = pd.Series(data)\n",
    "s"
   ]
  },
  {
   "cell_type": "code",
   "execution_count": 11,
   "id": "001fc333",
   "metadata": {},
   "outputs": [
    {
     "data": {
      "text/plain": [
       "Linha 0    3\n",
       "Linha 1    4\n",
       "Linha 2    5\n",
       "Linha 3    6\n",
       "Linha 4    7\n",
       "dtype: int64"
      ]
     },
     "execution_count": 11,
     "metadata": {},
     "output_type": "execute_result"
    }
   ],
   "source": [
    "s1 = s + 2\n",
    "s1"
   ]
  },
  {
   "cell_type": "code",
   "execution_count": 12,
   "id": "5d9a925c",
   "metadata": {},
   "outputs": [],
   "source": [
    "s2 = s + s1"
   ]
  },
  {
   "cell_type": "code",
   "execution_count": 13,
   "id": "516fba22",
   "metadata": {},
   "outputs": [
    {
     "data": {
      "text/plain": [
       "Linha 0     4\n",
       "Linha 1     6\n",
       "Linha 2     8\n",
       "Linha 3    10\n",
       "Linha 4    12\n",
       "dtype: int64"
      ]
     },
     "execution_count": 13,
     "metadata": {},
     "output_type": "execute_result"
    }
   ],
   "source": [
    "s2"
   ]
  },
  {
   "cell_type": "code",
   "execution_count": null,
   "id": "e949217a",
   "metadata": {},
   "outputs": [],
   "source": []
  }
 ],
 "metadata": {
  "kernelspec": {
   "display_name": "Python 3 (ipykernel)",
   "language": "python",
   "name": "python3"
  },
  "language_info": {
   "codemirror_mode": {
    "name": "ipython",
    "version": 3
   },
   "file_extension": ".py",
   "mimetype": "text/x-python",
   "name": "python",
   "nbconvert_exporter": "python",
   "pygments_lexer": "ipython3",
   "version": "3.11.4"
  }
 },
 "nbformat": 4,
 "nbformat_minor": 5
}
